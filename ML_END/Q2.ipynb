{
 "cells": [
  {
   "cell_type": "code",
   "execution_count": 57,
   "id": "41fe366a",
   "metadata": {},
   "outputs": [],
   "source": [
    "import pandas as pd\n",
    "import numpy as np\n",
    "import matplotlib.pyplot as plt\n",
    "import seaborn as sns"
   ]
  },
  {
   "cell_type": "code",
   "execution_count": 73,
   "id": "e0d88b7c",
   "metadata": {},
   "outputs": [],
   "source": [
    "df = pd.read_excel('data_final.xlsx')"
   ]
  },
  {
   "cell_type": "code",
   "execution_count": 74,
   "id": "1d1a3c3b",
   "metadata": {},
   "outputs": [
    {
     "data": {
      "text/html": [
       "<div>\n",
       "<style scoped>\n",
       "    .dataframe tbody tr th:only-of-type {\n",
       "        vertical-align: middle;\n",
       "    }\n",
       "\n",
       "    .dataframe tbody tr th {\n",
       "        vertical-align: top;\n",
       "    }\n",
       "\n",
       "    .dataframe thead th {\n",
       "        text-align: right;\n",
       "    }\n",
       "</style>\n",
       "<table border=\"1\" class=\"dataframe\">\n",
       "  <thead>\n",
       "    <tr style=\"text-align: right;\">\n",
       "      <th></th>\n",
       "      <th>observation</th>\n",
       "      <th>feature</th>\n",
       "      <th>price</th>\n",
       "    </tr>\n",
       "  </thead>\n",
       "  <tbody>\n",
       "    <tr>\n",
       "      <th>0</th>\n",
       "      <td>0.44</td>\n",
       "      <td>0.68</td>\n",
       "      <td>511.14</td>\n",
       "    </tr>\n",
       "    <tr>\n",
       "      <th>1</th>\n",
       "      <td>0.99</td>\n",
       "      <td>0.23</td>\n",
       "      <td>717.10</td>\n",
       "    </tr>\n",
       "    <tr>\n",
       "      <th>2</th>\n",
       "      <td>0.84</td>\n",
       "      <td>0.29</td>\n",
       "      <td>607.91</td>\n",
       "    </tr>\n",
       "    <tr>\n",
       "      <th>3</th>\n",
       "      <td>0.28</td>\n",
       "      <td>0.45</td>\n",
       "      <td>270.40</td>\n",
       "    </tr>\n",
       "    <tr>\n",
       "      <th>4</th>\n",
       "      <td>0.07</td>\n",
       "      <td>0.83</td>\n",
       "      <td>289.88</td>\n",
       "    </tr>\n",
       "  </tbody>\n",
       "</table>\n",
       "</div>"
      ],
      "text/plain": [
       "   observation  feature   price\n",
       "0         0.44     0.68  511.14\n",
       "1         0.99     0.23  717.10\n",
       "2         0.84     0.29  607.91\n",
       "3         0.28     0.45  270.40\n",
       "4         0.07     0.83  289.88"
      ]
     },
     "execution_count": 74,
     "metadata": {},
     "output_type": "execute_result"
    }
   ],
   "source": [
    "df.head()"
   ]
  },
  {
   "cell_type": "code",
   "execution_count": 75,
   "id": "3f4c7002",
   "metadata": {},
   "outputs": [
    {
     "data": {
      "text/html": [
       "<div>\n",
       "<style scoped>\n",
       "    .dataframe tbody tr th:only-of-type {\n",
       "        vertical-align: middle;\n",
       "    }\n",
       "\n",
       "    .dataframe tbody tr th {\n",
       "        vertical-align: top;\n",
       "    }\n",
       "\n",
       "    .dataframe thead th {\n",
       "        text-align: right;\n",
       "    }\n",
       "</style>\n",
       "<table border=\"1\" class=\"dataframe\">\n",
       "  <thead>\n",
       "    <tr style=\"text-align: right;\">\n",
       "      <th></th>\n",
       "      <th>observation</th>\n",
       "      <th>feature</th>\n",
       "      <th>price</th>\n",
       "    </tr>\n",
       "  </thead>\n",
       "  <tbody>\n",
       "    <tr>\n",
       "      <th>0</th>\n",
       "      <td>0.44</td>\n",
       "      <td>0.68</td>\n",
       "      <td>511.14</td>\n",
       "    </tr>\n",
       "    <tr>\n",
       "      <th>1</th>\n",
       "      <td>0.99</td>\n",
       "      <td>0.23</td>\n",
       "      <td>717.10</td>\n",
       "    </tr>\n",
       "    <tr>\n",
       "      <th>2</th>\n",
       "      <td>0.84</td>\n",
       "      <td>0.29</td>\n",
       "      <td>607.91</td>\n",
       "    </tr>\n",
       "    <tr>\n",
       "      <th>3</th>\n",
       "      <td>0.28</td>\n",
       "      <td>0.45</td>\n",
       "      <td>270.40</td>\n",
       "    </tr>\n",
       "    <tr>\n",
       "      <th>4</th>\n",
       "      <td>0.07</td>\n",
       "      <td>0.83</td>\n",
       "      <td>289.88</td>\n",
       "    </tr>\n",
       "    <tr>\n",
       "      <th>...</th>\n",
       "      <td>...</td>\n",
       "      <td>...</td>\n",
       "      <td>...</td>\n",
       "    </tr>\n",
       "    <tr>\n",
       "      <th>95</th>\n",
       "      <td>0.99</td>\n",
       "      <td>0.13</td>\n",
       "      <td>636.22</td>\n",
       "    </tr>\n",
       "    <tr>\n",
       "      <th>96</th>\n",
       "      <td>0.28</td>\n",
       "      <td>0.46</td>\n",
       "      <td>272.12</td>\n",
       "    </tr>\n",
       "    <tr>\n",
       "      <th>97</th>\n",
       "      <td>0.87</td>\n",
       "      <td>0.36</td>\n",
       "      <td>696.65</td>\n",
       "    </tr>\n",
       "    <tr>\n",
       "      <th>98</th>\n",
       "      <td>0.23</td>\n",
       "      <td>0.87</td>\n",
       "      <td>434.53</td>\n",
       "    </tr>\n",
       "    <tr>\n",
       "      <th>99</th>\n",
       "      <td>0.77</td>\n",
       "      <td>0.36</td>\n",
       "      <td>593.86</td>\n",
       "    </tr>\n",
       "  </tbody>\n",
       "</table>\n",
       "<p>100 rows × 3 columns</p>\n",
       "</div>"
      ],
      "text/plain": [
       "    observation  feature   price\n",
       "0          0.44     0.68  511.14\n",
       "1          0.99     0.23  717.10\n",
       "2          0.84     0.29  607.91\n",
       "3          0.28     0.45  270.40\n",
       "4          0.07     0.83  289.88\n",
       "..          ...      ...     ...\n",
       "95         0.99     0.13  636.22\n",
       "96         0.28     0.46  272.12\n",
       "97         0.87     0.36  696.65\n",
       "98         0.23     0.87  434.53\n",
       "99         0.77     0.36  593.86\n",
       "\n",
       "[100 rows x 3 columns]"
      ]
     },
     "execution_count": 75,
     "metadata": {},
     "output_type": "execute_result"
    }
   ],
   "source": [
    "df"
   ]
  },
  {
   "cell_type": "code",
   "execution_count": 121,
   "id": "ab8f3c84",
   "metadata": {},
   "outputs": [
    {
     "data": {
      "text/html": [
       "<div>\n",
       "<style scoped>\n",
       "    .dataframe tbody tr th:only-of-type {\n",
       "        vertical-align: middle;\n",
       "    }\n",
       "\n",
       "    .dataframe tbody tr th {\n",
       "        vertical-align: top;\n",
       "    }\n",
       "\n",
       "    .dataframe thead th {\n",
       "        text-align: right;\n",
       "    }\n",
       "</style>\n",
       "<table border=\"1\" class=\"dataframe\">\n",
       "  <thead>\n",
       "    <tr style=\"text-align: right;\">\n",
       "      <th></th>\n",
       "      <th>observation</th>\n",
       "      <th>feature</th>\n",
       "      <th>price</th>\n",
       "    </tr>\n",
       "  </thead>\n",
       "  <tbody>\n",
       "    <tr>\n",
       "      <th>count</th>\n",
       "      <td>100.000000</td>\n",
       "      <td>100.000000</td>\n",
       "      <td>100.000000</td>\n",
       "    </tr>\n",
       "    <tr>\n",
       "      <th>mean</th>\n",
       "      <td>0.550300</td>\n",
       "      <td>0.501700</td>\n",
       "      <td>554.214600</td>\n",
       "    </tr>\n",
       "    <tr>\n",
       "      <th>std</th>\n",
       "      <td>0.293841</td>\n",
       "      <td>0.307124</td>\n",
       "      <td>347.312796</td>\n",
       "    </tr>\n",
       "    <tr>\n",
       "      <th>min</th>\n",
       "      <td>0.010000</td>\n",
       "      <td>0.000000</td>\n",
       "      <td>42.080000</td>\n",
       "    </tr>\n",
       "    <tr>\n",
       "      <th>25%</th>\n",
       "      <td>0.300000</td>\n",
       "      <td>0.230000</td>\n",
       "      <td>278.172500</td>\n",
       "    </tr>\n",
       "    <tr>\n",
       "      <th>50%</th>\n",
       "      <td>0.570000</td>\n",
       "      <td>0.485000</td>\n",
       "      <td>514.285000</td>\n",
       "    </tr>\n",
       "    <tr>\n",
       "      <th>75%</th>\n",
       "      <td>0.822500</td>\n",
       "      <td>0.760000</td>\n",
       "      <td>751.752500</td>\n",
       "    </tr>\n",
       "    <tr>\n",
       "      <th>max</th>\n",
       "      <td>1.000000</td>\n",
       "      <td>0.990000</td>\n",
       "      <td>1563.820000</td>\n",
       "    </tr>\n",
       "  </tbody>\n",
       "</table>\n",
       "</div>"
      ],
      "text/plain": [
       "       observation     feature        price\n",
       "count   100.000000  100.000000   100.000000\n",
       "mean      0.550300    0.501700   554.214600\n",
       "std       0.293841    0.307124   347.312796\n",
       "min       0.010000    0.000000    42.080000\n",
       "25%       0.300000    0.230000   278.172500\n",
       "50%       0.570000    0.485000   514.285000\n",
       "75%       0.822500    0.760000   751.752500\n",
       "max       1.000000    0.990000  1563.820000"
      ]
     },
     "execution_count": 121,
     "metadata": {},
     "output_type": "execute_result"
    }
   ],
   "source": [
    "df.describe()"
   ]
  },
  {
   "cell_type": "code",
   "execution_count": 122,
   "id": "fe0d6964",
   "metadata": {},
   "outputs": [
    {
     "name": "stdout",
     "output_type": "stream",
     "text": [
      "<class 'pandas.core.frame.DataFrame'>\n",
      "RangeIndex: 100 entries, 0 to 99\n",
      "Data columns (total 3 columns):\n",
      " #   Column       Non-Null Count  Dtype  \n",
      "---  ------       --------------  -----  \n",
      " 0   observation  100 non-null    float64\n",
      " 1   feature      100 non-null    float64\n",
      " 2   price        100 non-null    float64\n",
      "dtypes: float64(3)\n",
      "memory usage: 2.5 KB\n"
     ]
    }
   ],
   "source": [
    "df.info()"
   ]
  },
  {
   "cell_type": "code",
   "execution_count": 76,
   "id": "83f16aad",
   "metadata": {},
   "outputs": [
    {
     "data": {
      "text/plain": [
       "observation    0\n",
       "feature        0\n",
       "price          0\n",
       "dtype: int64"
      ]
     },
     "execution_count": 76,
     "metadata": {},
     "output_type": "execute_result"
    }
   ],
   "source": [
    "df.isnull().sum()#no null values"
   ]
  },
  {
   "cell_type": "code",
   "execution_count": 77,
   "id": "f92ecc55",
   "metadata": {},
   "outputs": [
    {
     "data": {
      "text/plain": [
       "0"
      ]
     },
     "execution_count": 77,
     "metadata": {},
     "output_type": "execute_result"
    }
   ],
   "source": [
    "df.duplicated().sum()#no duplicate values"
   ]
  },
  {
   "cell_type": "code",
   "execution_count": 124,
   "id": "98a38408",
   "metadata": {},
   "outputs": [
    {
     "data": {
      "text/plain": [
       "<AxesSubplot:>"
      ]
     },
     "execution_count": 124,
     "metadata": {},
     "output_type": "execute_result"
    },
    {
     "data": {
      "image/png": "[encoded data removed]",
      "text/plain": [
       "<Figure size 640x480 with 2 Axes>"
      ]
     },
     "metadata": {},
     "output_type": "display_data"
    }
   ],
   "source": [
    "sns.heatmap(df.corr(),annot=True)"
   ]
  },
  {
   "cell_type": "code",
   "execution_count": null,
   "id": "20fe05b2",
   "metadata": {},
   "outputs": [],
   "source": []
  },
  {
   "cell_type": "code",
   "execution_count": 100,
   "id": "12641f89",
   "metadata": {},
   "outputs": [
    {
     "data": {
      "text/plain": [
       "array([[0.68],\n",
       "       [0.23],\n",
       "       [0.29],\n",
       "       [0.45],\n",
       "       [0.83],\n",
       "       [0.8 ],\n",
       "       [0.92],\n",
       "       [0.43],\n",
       "       [0.89],\n",
       "       [0.95],\n",
       "       [0.06],\n",
       "       [0.91],\n",
       "       [0.69],\n",
       "       [0.94],\n",
       "       [0.06],\n",
       "       [0.17],\n",
       "       [0.66],\n",
       "       [0.43],\n",
       "       [0.64],\n",
       "       [0.44],\n",
       "       [0.93],\n",
       "       [0.43],\n",
       "       [0.85],\n",
       "       [0.07],\n",
       "       [0.52],\n",
       "       [0.15],\n",
       "       [0.13],\n",
       "       [0.6 ],\n",
       "       [0.4 ],\n",
       "       [0.65],\n",
       "       [0.17],\n",
       "       [0.97],\n",
       "       [0.04],\n",
       "       [0.53],\n",
       "       [0.85],\n",
       "       [0.69],\n",
       "       [0.22],\n",
       "       [0.15],\n",
       "       [0.02],\n",
       "       [0.91],\n",
       "       [0.76],\n",
       "       [0.19],\n",
       "       [0.62],\n",
       "       [0.17],\n",
       "       [0.69],\n",
       "       [0.76],\n",
       "       [0.23],\n",
       "       [0.96],\n",
       "       [0.03],\n",
       "       [0.23],\n",
       "       [0.11],\n",
       "       [0.87],\n",
       "       [0.97],\n",
       "       [0.25],\n",
       "       [0.58],\n",
       "       [0.42],\n",
       "       [0.24],\n",
       "       [0.62],\n",
       "       [0.15],\n",
       "       [0.95],\n",
       "       [0.64],\n",
       "       [0.64],\n",
       "       [0.4 ],\n",
       "       [0.12],\n",
       "       [0.22],\n",
       "       [0.4 ],\n",
       "       [0.87],\n",
       "       [0.99],\n",
       "       [0.26],\n",
       "       [0.12],\n",
       "       [0.28],\n",
       "       [0.48],\n",
       "       [0.56],\n",
       "       [0.03],\n",
       "       [0.34],\n",
       "       [0.99],\n",
       "       [0.66],\n",
       "       [0.65],\n",
       "       [0.94],\n",
       "       [0.96],\n",
       "       [0.42],\n",
       "       [0.62],\n",
       "       [0.57],\n",
       "       [0.61],\n",
       "       [0.  ],\n",
       "       [0.3 ],\n",
       "       [0.08],\n",
       "       [0.49],\n",
       "       [0.01],\n",
       "       [0.23],\n",
       "       [0.94],\n",
       "       [0.98],\n",
       "       [0.68],\n",
       "       [0.46],\n",
       "       [0.5 ],\n",
       "       [0.13],\n",
       "       [0.46],\n",
       "       [0.36],\n",
       "       [0.87],\n",
       "       [0.36]])"
      ]
     },
     "execution_count": 100,
     "metadata": {},
     "output_type": "execute_result"
    }
   ],
   "source": [
    "\n",
    "x =df.iloc[:,1:-1].values\n",
    "x=x.reshape(-1,1)\n",
    "x"
   ]
  },
  {
   "cell_type": "code",
   "execution_count": 101,
   "id": "f4738364",
   "metadata": {},
   "outputs": [
    {
     "data": {
      "text/plain": [
       "array([ 511.14,  717.1 ,  607.91,  270.4 ,  289.88,  830.85, 1038.09,\n",
       "        455.19,  640.17,  511.06,  177.03, 1242.52,  891.37, 1339.72,\n",
       "        169.88,  276.05,  517.43,  522.25,  932.21,  851.25,  640.11,\n",
       "        308.68, 1046.05,  332.4 ,  171.85,  109.55,  361.97,  872.21,\n",
       "        303.7 ,  256.38,  341.2 , 1194.63,  408.6 ,  895.54,  518.25,\n",
       "        638.75,  301.9 ,  163.38,  240.77, 1449.05,  609.  ,  174.59,\n",
       "        593.45,  355.96,  671.46, 1193.7 ,  278.88,  411.4 ,   42.08,\n",
       "        166.19,   58.62,  642.45,  368.14,  702.78,  615.74,  143.79,\n",
       "        109.  ,  328.28,  205.16, 1360.49,  905.83,  487.33,  202.76,\n",
       "        202.01,  148.87,  745.3 ,  503.04, 1563.82,  165.21,  438.4 ,\n",
       "         98.47,  819.63,  174.44,  483.13,  534.24,  572.31,  957.61,\n",
       "        518.29, 1143.49, 1211.31,  784.74,  283.7 ,  684.38,  719.46,\n",
       "        292.23,  775.68,  130.77,  801.6 ,  323.55,  726.9 ,  661.12,\n",
       "        771.11, 1016.14,  237.69,  325.89,  636.22,  272.12,  696.65,\n",
       "        434.53,  593.86])"
      ]
     },
     "execution_count": 101,
     "metadata": {},
     "output_type": "execute_result"
    }
   ],
   "source": [
    "y =df.iloc[:,-1].values\n",
    "y"
   ]
  },
  {
   "cell_type": "code",
   "execution_count": 102,
   "id": "16a77b33",
   "metadata": {},
   "outputs": [],
   "source": [
    "# from sklearn.model_selection import train_test_split\n",
    "# x_train,x_test,y_train,y_test = train_test_split(x,y,test_size=0.3,random_state=0)"
   ]
  },
  {
   "cell_type": "code",
   "execution_count": 104,
   "id": "5bfd52dc",
   "metadata": {},
   "outputs": [],
   "source": [
    "from sklearn.preprocessing import PolynomialFeatures\n",
    "poly_reg = PolynomialFeatures(degree=3)\n",
    "x_poly= poly_reg.fit_transform(x)"
   ]
  },
  {
   "cell_type": "code",
   "execution_count": 105,
   "id": "deff02fa",
   "metadata": {},
   "outputs": [
    {
     "data": {
      "text/plain": [
       "array([[1.00000e+00, 6.80000e-01, 4.62400e-01, 3.14432e-01],\n",
       "       [1.00000e+00, 2.30000e-01, 5.29000e-02, 1.21670e-02],\n",
       "       [1.00000e+00, 2.90000e-01, 8.41000e-02, 2.43890e-02],\n",
       "       [1.00000e+00, 4.50000e-01, 2.02500e-01, 9.11250e-02],\n",
       "       [1.00000e+00, 8.30000e-01, 6.88900e-01, 5.71787e-01],\n",
       "       [1.00000e+00, 8.00000e-01, 6.40000e-01, 5.12000e-01],\n",
       "       [1.00000e+00, 9.20000e-01, 8.46400e-01, 7.78688e-01],\n",
       "       [1.00000e+00, 4.30000e-01, 1.84900e-01, 7.95070e-02],\n",
       "       [1.00000e+00, 8.90000e-01, 7.92100e-01, 7.04969e-01],\n",
       "       [1.00000e+00, 9.50000e-01, 9.02500e-01, 8.57375e-01],\n",
       "       [1.00000e+00, 6.00000e-02, 3.60000e-03, 2.16000e-04],\n",
       "       [1.00000e+00, 9.10000e-01, 8.28100e-01, 7.53571e-01],\n",
       "       [1.00000e+00, 6.90000e-01, 4.76100e-01, 3.28509e-01],\n",
       "       [1.00000e+00, 9.40000e-01, 8.83600e-01, 8.30584e-01],\n",
       "       [1.00000e+00, 6.00000e-02, 3.60000e-03, 2.16000e-04],\n",
       "       [1.00000e+00, 1.70000e-01, 2.89000e-02, 4.91300e-03],\n",
       "       [1.00000e+00, 6.60000e-01, 4.35600e-01, 2.87496e-01],\n",
       "       [1.00000e+00, 4.30000e-01, 1.84900e-01, 7.95070e-02],\n",
       "       [1.00000e+00, 6.40000e-01, 4.09600e-01, 2.62144e-01],\n",
       "       [1.00000e+00, 4.40000e-01, 1.93600e-01, 8.51840e-02],\n",
       "       [1.00000e+00, 9.30000e-01, 8.64900e-01, 8.04357e-01],\n",
       "       [1.00000e+00, 4.30000e-01, 1.84900e-01, 7.95070e-02],\n",
       "       [1.00000e+00, 8.50000e-01, 7.22500e-01, 6.14125e-01],\n",
       "       [1.00000e+00, 7.00000e-02, 4.90000e-03, 3.43000e-04],\n",
       "       [1.00000e+00, 5.20000e-01, 2.70400e-01, 1.40608e-01],\n",
       "       [1.00000e+00, 1.50000e-01, 2.25000e-02, 3.37500e-03],\n",
       "       [1.00000e+00, 1.30000e-01, 1.69000e-02, 2.19700e-03],\n",
       "       [1.00000e+00, 6.00000e-01, 3.60000e-01, 2.16000e-01],\n",
       "       [1.00000e+00, 4.00000e-01, 1.60000e-01, 6.40000e-02],\n",
       "       [1.00000e+00, 6.50000e-01, 4.22500e-01, 2.74625e-01],\n",
       "       [1.00000e+00, 1.70000e-01, 2.89000e-02, 4.91300e-03],\n",
       "       [1.00000e+00, 9.70000e-01, 9.40900e-01, 9.12673e-01],\n",
       "       [1.00000e+00, 4.00000e-02, 1.60000e-03, 6.40000e-05],\n",
       "       [1.00000e+00, 5.30000e-01, 2.80900e-01, 1.48877e-01],\n",
       "       [1.00000e+00, 8.50000e-01, 7.22500e-01, 6.14125e-01],\n",
       "       [1.00000e+00, 6.90000e-01, 4.76100e-01, 3.28509e-01],\n",
       "       [1.00000e+00, 2.20000e-01, 4.84000e-02, 1.06480e-02],\n",
       "       [1.00000e+00, 1.50000e-01, 2.25000e-02, 3.37500e-03],\n",
       "       [1.00000e+00, 2.00000e-02, 4.00000e-04, 8.00000e-06],\n",
       "       [1.00000e+00, 9.10000e-01, 8.28100e-01, 7.53571e-01],\n",
       "       [1.00000e+00, 7.60000e-01, 5.77600e-01, 4.38976e-01],\n",
       "       [1.00000e+00, 1.90000e-01, 3.61000e-02, 6.85900e-03],\n",
       "       [1.00000e+00, 6.20000e-01, 3.84400e-01, 2.38328e-01],\n",
       "       [1.00000e+00, 1.70000e-01, 2.89000e-02, 4.91300e-03],\n",
       "       [1.00000e+00, 6.90000e-01, 4.76100e-01, 3.28509e-01],\n",
       "       [1.00000e+00, 7.60000e-01, 5.77600e-01, 4.38976e-01],\n",
       "       [1.00000e+00, 2.30000e-01, 5.29000e-02, 1.21670e-02],\n",
       "       [1.00000e+00, 9.60000e-01, 9.21600e-01, 8.84736e-01],\n",
       "       [1.00000e+00, 3.00000e-02, 9.00000e-04, 2.70000e-05],\n",
       "       [1.00000e+00, 2.30000e-01, 5.29000e-02, 1.21670e-02],\n",
       "       [1.00000e+00, 1.10000e-01, 1.21000e-02, 1.33100e-03],\n",
       "       [1.00000e+00, 8.70000e-01, 7.56900e-01, 6.58503e-01],\n",
       "       [1.00000e+00, 9.70000e-01, 9.40900e-01, 9.12673e-01],\n",
       "       [1.00000e+00, 2.50000e-01, 6.25000e-02, 1.56250e-02],\n",
       "       [1.00000e+00, 5.80000e-01, 3.36400e-01, 1.95112e-01],\n",
       "       [1.00000e+00, 4.20000e-01, 1.76400e-01, 7.40880e-02],\n",
       "       [1.00000e+00, 2.40000e-01, 5.76000e-02, 1.38240e-02],\n",
       "       [1.00000e+00, 6.20000e-01, 3.84400e-01, 2.38328e-01],\n",
       "       [1.00000e+00, 1.50000e-01, 2.25000e-02, 3.37500e-03],\n",
       "       [1.00000e+00, 9.50000e-01, 9.02500e-01, 8.57375e-01],\n",
       "       [1.00000e+00, 6.40000e-01, 4.09600e-01, 2.62144e-01],\n",
       "       [1.00000e+00, 6.40000e-01, 4.09600e-01, 2.62144e-01],\n",
       "       [1.00000e+00, 4.00000e-01, 1.60000e-01, 6.40000e-02],\n",
       "       [1.00000e+00, 1.20000e-01, 1.44000e-02, 1.72800e-03],\n",
       "       [1.00000e+00, 2.20000e-01, 4.84000e-02, 1.06480e-02],\n",
       "       [1.00000e+00, 4.00000e-01, 1.60000e-01, 6.40000e-02],\n",
       "       [1.00000e+00, 8.70000e-01, 7.56900e-01, 6.58503e-01],\n",
       "       [1.00000e+00, 9.90000e-01, 9.80100e-01, 9.70299e-01],\n",
       "       [1.00000e+00, 2.60000e-01, 6.76000e-02, 1.75760e-02],\n",
       "       [1.00000e+00, 1.20000e-01, 1.44000e-02, 1.72800e-03],\n",
       "       [1.00000e+00, 2.80000e-01, 7.84000e-02, 2.19520e-02],\n",
       "       [1.00000e+00, 4.80000e-01, 2.30400e-01, 1.10592e-01],\n",
       "       [1.00000e+00, 5.60000e-01, 3.13600e-01, 1.75616e-01],\n",
       "       [1.00000e+00, 3.00000e-02, 9.00000e-04, 2.70000e-05],\n",
       "       [1.00000e+00, 3.40000e-01, 1.15600e-01, 3.93040e-02],\n",
       "       [1.00000e+00, 9.90000e-01, 9.80100e-01, 9.70299e-01],\n",
       "       [1.00000e+00, 6.60000e-01, 4.35600e-01, 2.87496e-01],\n",
       "       [1.00000e+00, 6.50000e-01, 4.22500e-01, 2.74625e-01],\n",
       "       [1.00000e+00, 9.40000e-01, 8.83600e-01, 8.30584e-01],\n",
       "       [1.00000e+00, 9.60000e-01, 9.21600e-01, 8.84736e-01],\n",
       "       [1.00000e+00, 4.20000e-01, 1.76400e-01, 7.40880e-02],\n",
       "       [1.00000e+00, 6.20000e-01, 3.84400e-01, 2.38328e-01],\n",
       "       [1.00000e+00, 5.70000e-01, 3.24900e-01, 1.85193e-01],\n",
       "       [1.00000e+00, 6.10000e-01, 3.72100e-01, 2.26981e-01],\n",
       "       [1.00000e+00, 0.00000e+00, 0.00000e+00, 0.00000e+00],\n",
       "       [1.00000e+00, 3.00000e-01, 9.00000e-02, 2.70000e-02],\n",
       "       [1.00000e+00, 8.00000e-02, 6.40000e-03, 5.12000e-04],\n",
       "       [1.00000e+00, 4.90000e-01, 2.40100e-01, 1.17649e-01],\n",
       "       [1.00000e+00, 1.00000e-02, 1.00000e-04, 1.00000e-06],\n",
       "       [1.00000e+00, 2.30000e-01, 5.29000e-02, 1.21670e-02],\n",
       "       [1.00000e+00, 9.40000e-01, 8.83600e-01, 8.30584e-01],\n",
       "       [1.00000e+00, 9.80000e-01, 9.60400e-01, 9.41192e-01],\n",
       "       [1.00000e+00, 6.80000e-01, 4.62400e-01, 3.14432e-01],\n",
       "       [1.00000e+00, 4.60000e-01, 2.11600e-01, 9.73360e-02],\n",
       "       [1.00000e+00, 5.00000e-01, 2.50000e-01, 1.25000e-01],\n",
       "       [1.00000e+00, 1.30000e-01, 1.69000e-02, 2.19700e-03],\n",
       "       [1.00000e+00, 4.60000e-01, 2.11600e-01, 9.73360e-02],\n",
       "       [1.00000e+00, 3.60000e-01, 1.29600e-01, 4.66560e-02],\n",
       "       [1.00000e+00, 8.70000e-01, 7.56900e-01, 6.58503e-01],\n",
       "       [1.00000e+00, 3.60000e-01, 1.29600e-01, 4.66560e-02]])"
      ]
     },
     "execution_count": 105,
     "metadata": {},
     "output_type": "execute_result"
    }
   ],
   "source": [
    "x_poly"
   ]
  },
  {
   "cell_type": "code",
   "execution_count": 107,
   "id": "f05d71a9",
   "metadata": {},
   "outputs": [],
   "source": [
    "from sklearn.linear_model import LinearRegression\n",
    "model = LinearRegression()\n",
    "model1 = model.fit(x_poly,y)"
   ]
  },
  {
   "cell_type": "code",
   "execution_count": 108,
   "id": "fe237319",
   "metadata": {},
   "outputs": [
    {
     "data": {
      "text/plain": [
       "LinearRegression()"
      ]
     },
     "execution_count": 108,
     "metadata": {},
     "output_type": "execute_result"
    }
   ],
   "source": [
    "model1"
   ]
  },
  {
   "cell_type": "code",
   "execution_count": 114,
   "id": "120010f1",
   "metadata": {},
   "outputs": [
    {
     "data": {
      "text/plain": [
       "[<matplotlib.lines.Line2D at 0x18a025e0f10>]"
      ]
     },
     "execution_count": 114,
     "metadata": {},
     "output_type": "execute_result"
    },
    {
     "data": {
      "image/png": "[encoded data removed]",
      "text/plain": [
       "<Figure size 640x480 with 1 Axes>"
      ]
     },
     "metadata": {},
     "output_type": "display_data"
    }
   ],
   "source": [
    "plt.scatter(x,y)\n",
    "plt.plot(x,model1.predict(x_poly),color='green')"
   ]
  },
  {
   "cell_type": "code",
   "execution_count": 115,
   "id": "c81ce161",
   "metadata": {},
   "outputs": [],
   "source": [
    "from sklearn.model_selection import train_test_split\n",
    "x_train,x_test,y_train,y_test = train_test_split(x,y,test_size=0.2,random_state=0)\n"
   ]
  },
  {
   "cell_type": "code",
   "execution_count": 116,
   "id": "251a5093",
   "metadata": {},
   "outputs": [
    {
     "data": {
      "text/plain": [
       "LinearRegression()"
      ]
     },
     "execution_count": 116,
     "metadata": {},
     "output_type": "execute_result"
    }
   ],
   "source": [
    "model2 = LinearRegression()\n",
    "model2 = model2.fit(x_train,y_train)\n",
    "model2"
   ]
  },
  {
   "cell_type": "code",
   "execution_count": 120,
   "id": "66dbd6e0",
   "metadata": {},
   "outputs": [
    {
     "data": {
      "text/plain": [
       "[<matplotlib.lines.Line2D at 0x18a02606be0>]"
      ]
     },
     "execution_count": 120,
     "metadata": {},
     "output_type": "execute_result"
    },
    {
     "data": {
      "image/png": "[encoded data removed]",
      "text/plain": [
       "<Figure size 640x480 with 1 Axes>"
      ]
     },
     "metadata": {},
     "output_type": "display_data"
    }
   ],
   "source": [
    "plt.scatter(x,y)\n",
    "plt.plot(x,model2.predict(x),color='green')"
   ]
  },
  {
   "cell_type": "code",
   "execution_count": null,
   "id": "47f1c8ba",
   "metadata": {},
   "outputs": [],
   "source": []
  }
 ],
 "metadata": {
  "kernelspec": {
   "display_name": "Python 3 (ipykernel)",
   "language": "python",
   "name": "python3"
  },
  "language_info": {
   "codemirror_mode": {
    "name": "ipython",
    "version": 3
   },
   "file_extension": ".py",
   "mimetype": "text/x-python",
   "name": "python",
   "nbconvert_exporter": "python",
   "pygments_lexer": "ipython3",
   "version": "3.9.13"
  }
 },
 "nbformat": 4,
 "nbformat_minor": 5
}
